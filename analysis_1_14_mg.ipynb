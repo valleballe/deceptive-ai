{
 "cells": [
  {
   "cell_type": "code",
   "execution_count": 10,
   "metadata": {},
   "outputs": [],
   "source": [
    "from scipy import stats\n",
    "from sklearn.metrics import roc_curve, roc_auc_score\n",
    "import pandas as pd\n",
    "import numpy as np\n",
    "import matplotlib.pyplot as plt\n",
    "import statsmodels.api as sm\n",
    "from stargazer.stargazer import Stargazer\n",
    "from IPython.core.display import HTML\n",
    "\n",
    "from scipy.stats import ttest_ind\n",
    "import warnings\n",
    "from sklearn.metrics import confusion_matrix, ConfusionMatrixDisplay\n",
    "from scipy.stats import norm\n",
    "import math\n",
    "import seaborn as sns\n",
    "\n",
    "\n",
    "warnings.filterwarnings('ignore')\n",
    "%matplotlib inline\n",
    "\n",
    "# color palette\n",
    "palette1 = \"#007BFF\"\n",
    "palette2 = \"#3ABFC2\"\n",
    "palette3 = \"#E1C081\"\n",
    "palette4 = \"#E17A57\"\n",
    "palette5 = \"#D92D3F\"\n",
    "\n",
    "# load processed results\n",
    "df = pd.read_csv(\"data/results/results_processed.csv\")\n",
    "# creating dummy variables aka binary features\n",
    "df[\"trivia\"] = df.stimulation==\"trivia\"\n",
    "df[\"true_statement\"] = (df.ground_truth==True).astype(int)\n",
    "df[\"explanation\"] = (df.condition==\"flag+explanation\").astype(int)\n",
    "df[\"text_explanation\"] = \"No Explanation\"\n",
    "df.loc[df.explanation==1,\"text_explanation\"] = \"GPT Explanation\"\n",
    "df[\"deceptive_feedback\"] = (df.explanation_type==\"Deceptive\").astype(int)\n",
    "\n",
    "\n",
    "df[\"deceptive_feedback_x_explanation\"] = df[\"deceptive_feedback\"]*df[\"explanation\"]\n",
    "df[\"deceptive_feedback_x_true_statement\"] = df[\"deceptive_feedback\"]*df[\"true_statement\"]\n",
    "df[\"deceptive_feedback_x_ts_x_explanation\"] = df[\"deceptive_feedback\"]*df[\"explanation\"]*df[\"true_statement\"]\n",
    "df[\"explanation_x_true_statement\"] = df[\"explanation\"]*df[\"true_statement\"]\n",
    "df[\"explanation_x_crt\"] = df[\"explanation\"]*df[\"CRT\"]\n",
    "\n",
    "df[\"rating_delta\"] = df.second_rating - df.initial_rating\n",
    "df['z_rating_delta'] = (df.rating_delta - df.rating_delta.mean())/df.rating_delta.std()\n"
   ]
  },
  {
   "cell_type": "code",
   "execution_count": null,
   "metadata": {},
   "outputs": [],
   "source": []
  },
  {
   "cell_type": "code",
   "execution_count": 11,
   "metadata": {},
   "outputs": [
    {
     "data": {
      "text/html": [
       "<div>\n",
       "<style scoped>\n",
       "    .dataframe tbody tr th:only-of-type {\n",
       "        vertical-align: middle;\n",
       "    }\n",
       "\n",
       "    .dataframe tbody tr th {\n",
       "        vertical-align: top;\n",
       "    }\n",
       "\n",
       "    .dataframe thead th {\n",
       "        text-align: right;\n",
       "    }\n",
       "</style>\n",
       "<table border=\"1\" class=\"dataframe\">\n",
       "  <thead>\n",
       "    <tr style=\"text-align: right;\">\n",
       "      <th></th>\n",
       "      <th>PROLIFIC_PID</th>\n",
       "      <th>order</th>\n",
       "      <th>initial_rating</th>\n",
       "      <th>second_rating</th>\n",
       "      <th>knowledge</th>\n",
       "      <th>page_1_time</th>\n",
       "      <th>page_2_time</th>\n",
       "      <th>stimulus_ID</th>\n",
       "      <th>explanation_type</th>\n",
       "      <th>RecordedDate</th>\n",
       "      <th>...</th>\n",
       "      <th>explanation</th>\n",
       "      <th>text_explanation</th>\n",
       "      <th>deceptive_feedback</th>\n",
       "      <th>deceptive_feedback_x_explanation</th>\n",
       "      <th>deceptive_feedback_x_true_statement</th>\n",
       "      <th>deceptive_feedback_x_ts_x_explanation</th>\n",
       "      <th>explanation_x_true_statement</th>\n",
       "      <th>explanation_x_crt</th>\n",
       "      <th>rating_delta</th>\n",
       "      <th>z_rating_delta</th>\n",
       "    </tr>\n",
       "  </thead>\n",
       "  <tbody>\n",
       "    <tr>\n",
       "      <th>0</th>\n",
       "      <td>6108e03508bd5499cf3c2a71</td>\n",
       "      <td>1</td>\n",
       "      <td>2.3</td>\n",
       "      <td>1.0</td>\n",
       "      <td>2.5</td>\n",
       "      <td>23.300</td>\n",
       "      <td>27.030</td>\n",
       "      <td>1022.0</td>\n",
       "      <td>Honest</td>\n",
       "      <td>2022-12-02 09:13:52</td>\n",
       "      <td>...</td>\n",
       "      <td>0</td>\n",
       "      <td>No Explanation</td>\n",
       "      <td>0</td>\n",
       "      <td>0</td>\n",
       "      <td>0</td>\n",
       "      <td>0</td>\n",
       "      <td>0</td>\n",
       "      <td>0.000000</td>\n",
       "      <td>-1.3</td>\n",
       "      <td>-1.066436</td>\n",
       "    </tr>\n",
       "    <tr>\n",
       "      <th>1</th>\n",
       "      <td>5f78ce64cb5f144a98a4fa38</td>\n",
       "      <td>1</td>\n",
       "      <td>4.0</td>\n",
       "      <td>5.0</td>\n",
       "      <td>1.0</td>\n",
       "      <td>8.030</td>\n",
       "      <td>9.871</td>\n",
       "      <td>524.0</td>\n",
       "      <td>Honest</td>\n",
       "      <td>2022-12-02 09:15:10</td>\n",
       "      <td>...</td>\n",
       "      <td>0</td>\n",
       "      <td>No Explanation</td>\n",
       "      <td>0</td>\n",
       "      <td>0</td>\n",
       "      <td>0</td>\n",
       "      <td>0</td>\n",
       "      <td>0</td>\n",
       "      <td>0.000000</td>\n",
       "      <td>1.0</td>\n",
       "      <td>0.860950</td>\n",
       "    </tr>\n",
       "    <tr>\n",
       "      <th>2</th>\n",
       "      <td>6046a861fd56950eb9e314ea</td>\n",
       "      <td>1</td>\n",
       "      <td>4.1</td>\n",
       "      <td>4.1</td>\n",
       "      <td>1.1</td>\n",
       "      <td>16.800</td>\n",
       "      <td>15.842</td>\n",
       "      <td>1038.0</td>\n",
       "      <td>Deceptive</td>\n",
       "      <td>2022-12-02 09:18:10</td>\n",
       "      <td>...</td>\n",
       "      <td>1</td>\n",
       "      <td>GPT Explanation</td>\n",
       "      <td>1</td>\n",
       "      <td>1</td>\n",
       "      <td>0</td>\n",
       "      <td>0</td>\n",
       "      <td>0</td>\n",
       "      <td>0.000000</td>\n",
       "      <td>0.0</td>\n",
       "      <td>0.022956</td>\n",
       "    </tr>\n",
       "    <tr>\n",
       "      <th>3</th>\n",
       "      <td>5b66c8d4cda8590001dafb0c</td>\n",
       "      <td>1</td>\n",
       "      <td>2.0</td>\n",
       "      <td>4.5</td>\n",
       "      <td>2.0</td>\n",
       "      <td>12.168</td>\n",
       "      <td>14.103</td>\n",
       "      <td>1017.0</td>\n",
       "      <td>Deceptive</td>\n",
       "      <td>2022-12-02 09:18:53</td>\n",
       "      <td>...</td>\n",
       "      <td>1</td>\n",
       "      <td>GPT Explanation</td>\n",
       "      <td>1</td>\n",
       "      <td>1</td>\n",
       "      <td>0</td>\n",
       "      <td>0</td>\n",
       "      <td>0</td>\n",
       "      <td>0.666667</td>\n",
       "      <td>2.5</td>\n",
       "      <td>2.117940</td>\n",
       "    </tr>\n",
       "    <tr>\n",
       "      <th>4</th>\n",
       "      <td>5f2c1cc33ea8e3068272d06c</td>\n",
       "      <td>1</td>\n",
       "      <td>1.0</td>\n",
       "      <td>1.0</td>\n",
       "      <td>2.1</td>\n",
       "      <td>5.601</td>\n",
       "      <td>14.100</td>\n",
       "      <td>1019.0</td>\n",
       "      <td>Deceptive</td>\n",
       "      <td>2022-12-02 09:20:48</td>\n",
       "      <td>...</td>\n",
       "      <td>1</td>\n",
       "      <td>GPT Explanation</td>\n",
       "      <td>1</td>\n",
       "      <td>1</td>\n",
       "      <td>0</td>\n",
       "      <td>0</td>\n",
       "      <td>0</td>\n",
       "      <td>0.333333</td>\n",
       "      <td>0.0</td>\n",
       "      <td>0.022956</td>\n",
       "    </tr>\n",
       "  </tbody>\n",
       "</table>\n",
       "<p>5 rows × 32 columns</p>\n",
       "</div>"
      ],
      "text/plain": [
       "               PROLIFIC_PID  order  initial_rating  second_rating  knowledge  \\\n",
       "0  6108e03508bd5499cf3c2a71      1             2.3            1.0        2.5   \n",
       "1  5f78ce64cb5f144a98a4fa38      1             4.0            5.0        1.0   \n",
       "2  6046a861fd56950eb9e314ea      1             4.1            4.1        1.1   \n",
       "3  5b66c8d4cda8590001dafb0c      1             2.0            4.5        2.0   \n",
       "4  5f2c1cc33ea8e3068272d06c      1             1.0            1.0        2.1   \n",
       "\n",
       "   page_1_time  page_2_time  stimulus_ID explanation_type  \\\n",
       "0       23.300       27.030       1022.0           Honest   \n",
       "1        8.030        9.871        524.0           Honest   \n",
       "2       16.800       15.842       1038.0        Deceptive   \n",
       "3       12.168       14.103       1017.0        Deceptive   \n",
       "4        5.601       14.100       1019.0        Deceptive   \n",
       "\n",
       "          RecordedDate  ...  explanation text_explanation  deceptive_feedback  \\\n",
       "0  2022-12-02 09:13:52  ...            0   No Explanation                   0   \n",
       "1  2022-12-02 09:15:10  ...            0   No Explanation                   0   \n",
       "2  2022-12-02 09:18:10  ...            1  GPT Explanation                   1   \n",
       "3  2022-12-02 09:18:53  ...            1  GPT Explanation                   1   \n",
       "4  2022-12-02 09:20:48  ...            1  GPT Explanation                   1   \n",
       "\n",
       "   deceptive_feedback_x_explanation  deceptive_feedback_x_true_statement  \\\n",
       "0                                 0                                    0   \n",
       "1                                 0                                    0   \n",
       "2                                 1                                    0   \n",
       "3                                 1                                    0   \n",
       "4                                 1                                    0   \n",
       "\n",
       "  deceptive_feedback_x_ts_x_explanation explanation_x_true_statement  \\\n",
       "0                                     0                            0   \n",
       "1                                     0                            0   \n",
       "2                                     0                            0   \n",
       "3                                     0                            0   \n",
       "4                                     0                            0   \n",
       "\n",
       "   explanation_x_crt rating_delta z_rating_delta  \n",
       "0           0.000000         -1.3      -1.066436  \n",
       "1           0.000000          1.0       0.860950  \n",
       "2           0.000000          0.0       0.022956  \n",
       "3           0.666667          2.5       2.117940  \n",
       "4           0.333333          0.0       0.022956  \n",
       "\n",
       "[5 rows x 32 columns]"
      ]
     },
     "execution_count": 11,
     "metadata": {},
     "output_type": "execute_result"
    }
   ],
   "source": [
    "df.head()"
   ]
  },
  {
   "cell_type": "code",
   "execution_count": 12,
   "metadata": {},
   "outputs": [
    {
     "name": "stdout",
     "output_type": "stream",
     "text": [
      "Initial Rating\n",
      "true_statement\n",
      "0    2.482965\n",
      "1    3.218126\n",
      "Name: initial_rating, dtype: float64\n",
      "Second Rating\n",
      "true_statement\n",
      "0    2.566109\n",
      "1    3.085328\n",
      "Name: second_rating, dtype: float64\n",
      "trivia  true_statement  explanation  deceptive_feedback\n",
      "False   0               0            0                     288\n",
      "                                     1                     288\n",
      "                        1            0                     300\n",
      "                                     1                     300\n",
      "        1               0            0                     289\n",
      "                                     1                     289\n",
      "                        1            0                     300\n",
      "                                     1                     300\n",
      "True    0               0            0                     299\n",
      "                                     1                     299\n",
      "                        1            0                     311\n",
      "                                     1                     311\n",
      "        1               0            0                     297\n",
      "                                     1                     299\n",
      "                        1            0                     310\n",
      "                                     1                     309\n",
      "Name: PROLIFIC_PID, dtype: int64\n"
     ]
    }
   ],
   "source": [
    "print(\"Initial Rating\")\n",
    "print(df.groupby(\"true_statement\").initial_rating.mean())\n",
    "print(\"Second Rating\")\n",
    "print(df.groupby(\"true_statement\").second_rating.mean())\n",
    "print(df.groupby([\"trivia\",\"true_statement\",\"explanation\",\"deceptive_feedback\"])[\"PROLIFIC_PID\"].nunique())"
   ]
  },
  {
   "cell_type": "code",
   "execution_count": 13,
   "metadata": {},
   "outputs": [
    {
     "data": {
      "text/html": [
       "<table style=\"text-align:center\"><tr><td colspan=\"9\" style=\"border-bottom: 1px solid black\"></td></tr><tr><td style=\"text-align:left\"></td><td colspan=\"8\"><em>Dependent variable:second_rating</em></td></tr><tr><td style=\"text-align:left\"></td><tr><td></td><td colspan=\"1\">N – True (Honest)</td><td colspan=\"1\">N – True (Deceptive)</td><td colspan=\"1\">N – False (Honest)</td><td colspan=\"1\">N – False (Deceptive)</td><td colspan=\"1\">T – True (Honest)</td><td colspan=\"1\">T – True (Deceptive)</td><td colspan=\"1\">T – False (Honest)</td><td colspan=\"1\">T – False (Deceptive)</td></tr><tr><td style=\"text-align:left\"></td><td>(1)</td><td>(2)</td><td>(3)</td><td>(4)</td><td>(5)</td><td>(6)</td><td>(7)</td><td>(8)</td></tr><tr><td colspan=\"9\" style=\"border-bottom: 1px solid black\"></td></tr><tr><td style=\"text-align:left\">Constant</td><td>1.68<sup>***</sup></td><td>2.39<sup>***</sup></td><td>3.62<sup>***</sup></td><td>2.61<sup>***</sup></td><td>2.29<sup>***</sup></td><td>3.48<sup>***</sup></td><td>3.80<sup>***</sup></td><td>2.42<sup>***</sup></td></tr><tr><td style=\"text-align:left\"></td><td>(0.03)</td><td>(0.06)</td><td>(0.04)</td><td>(0.04)</td><td>(0.04)</td><td>(0.05)</td><td>(0.05)</td><td>(0.05)</td></tr><tr><td style=\"text-align:left\">GPT Explanation</td><td>-0.07<sup></sup></td><td>0.25<sup>**</sup></td><td>0.15<sup>**</sup></td><td>-0.25<sup>***</sup></td><td>-0.02<sup></sup></td><td>-0.01<sup></sup></td><td>0.09<sup></sup></td><td>-0.18<sup>**</sup></td></tr><tr><td style=\"text-align:left\"></td><td>(0.05)</td><td>(0.08)</td><td>(0.05)</td><td>(0.06)</td><td>(0.05)</td><td>(0.06)</td><td>(0.06)</td><td>(0.07)</td></tr><td colspan=\"9\" style=\"border-bottom: 1px solid black\"></td></tr><tr><td style=\"text-align: left\">Observations</td><td>2,255</td><td>2,363</td><td>3,574</td><td>3,588</td><td>3,544</td><td>3,543</td><td>2,527</td><td>2,586</td></tr><tr><td style=\"text-align: left\">R<sup>2</sup></td><td>0.00</td><td>0.01</td><td>0.01</td><td>0.01</td><td>0.00</td><td>0.00</td><td>0.00</td><td>0.01</td></tr><tr><td style=\"text-align: left\">Adjusted R<sup>2</sup></td><td>0.00</td><td>0.01</td><td>0.01</td><td>0.01</td><td>-0.00</td><td>-0.00</td><td>0.00</td><td>0.00</td></tr><tr><td style=\"text-align: left\">Residual Std. Error</td><td>0.94</td><td>1.42</td><td>1.04</td><td>1.11</td><td>1.24</td><td>1.33</td><td>1.19</td><td>1.28</td></tr><tr><td style=\"text-align: left\">F Statistic</td><td>2.02<sup></sup></td><td>8.92<sup>**</sup></td><td>8.74<sup>**</sup></td><td>15.80<sup>***</sup></td><td>0.16<sup></sup></td><td>0.02<sup></sup></td><td>1.92<sup></sup></td><td>6.90<sup>**</sup></td></tr><tr><td colspan=\"9\" style=\"border-bottom: 1px solid black\"></td></tr><tr><td style=\"text-align: left\">Note:</td>\n",
       " <td colspan=\"8\" style=\"text-align: right\">\n",
       "  <sup>*</sup>p&lt;0.05;\n",
       "  <sup>**</sup>p&lt;0.01;\n",
       "  <sup>***</sup>p&lt;0.001\n",
       " </td></tr></table>"
      ],
      "text/plain": [
       "<IPython.core.display.HTML object>"
      ]
     },
     "execution_count": 13,
     "metadata": {},
     "output_type": "execute_result"
    }
   ],
   "source": [
    "x= []\n",
    "for stimuli in [0,1]:\n",
    "    for truth in [0,1]:\n",
    "        for deception in [0,1]:\n",
    "            #stats.ttest(X,Y)\n",
    "            i = df[(df.trivia==stimuli) & (df.true_statement==truth) & (df.deceptive_feedback==deception)]\n",
    "            res = sm.OLS(i[\"second_rating\"], \n",
    "                                  sm.add_constant(i[[\n",
    "    #                                   'deceptive_feedback',\n",
    "                                      'explanation',\n",
    "    #                                   \"deceptive_feedback_x_explanation\",\n",
    "                                  ]]), \n",
    "                                  M=sm.robust.norms.HuberT()).fit(cov_type='cluster', cov_kwds={'groups': i['PROLIFIC_PID']})\n",
    "            x.append(res)\n",
    "stargazer = Stargazer([x[0],x[1],x[2],x[3],\n",
    "                      x[4],x[5],x[6],x[7]])\n",
    "stargazer.covariate_order([\n",
    "                            'const',\n",
    "                            'explanation',\n",
    "                \n",
    "                          ])\n",
    "stargazer.custom_columns(['N – True (Honest)','N – True (Deceptive)',\n",
    "                          'N – False (Honest)', 'N – False (Deceptive)',\n",
    "                         'T – True (Honest)','T – True (Deceptive)',\n",
    "                          'T – False (Honest)', 'T – False (Deceptive)'],\n",
    "                         [1,1,1,1,1,1,1,1,])\n",
    "stargazer.rename_covariates({\n",
    "                            'const':'Constant',\n",
    "                            'explanation':\"GPT Explanation\",\n",
    "                            'deceptive_feedback': \"Deceptive Feedback\",\n",
    "                            \"deceptive_feedback_x_explanation\": \"Deceptive GPT Explanation\",\n",
    "                            })\n",
    "stargazer.significant_digits(2)\n",
    "stargazer.show_degrees_of_freedom(False)\n",
    "stargazer.significance_levels([0.05, 0.01, 0.001])\n",
    "stargazer.show_model_numbers(True)\n",
    "HTML(stargazer.render_html())\n"
   ]
  },
  {
   "cell_type": "code",
   "execution_count": 14,
   "metadata": {},
   "outputs": [
    {
     "data": {
      "text/plain": [
       "Index(['PROLIFIC_PID', 'order', 'initial_rating', 'second_rating', 'knowledge',\n",
       "       'page_1_time', 'page_2_time', 'stimulus_ID', 'explanation_type',\n",
       "       'RecordedDate', 'Duration (in seconds)', 'Comments', 'trust', 'NFC',\n",
       "       'CRT', 'condition', 'stimulation', 'ground_truth', 'topic',\n",
       "       'logical_validity', 'trivia', 'true_statement', 'explanation',\n",
       "       'text_explanation', 'deceptive_feedback',\n",
       "       'deceptive_feedback_x_explanation',\n",
       "       'deceptive_feedback_x_true_statement',\n",
       "       'deceptive_feedback_x_ts_x_explanation', 'explanation_x_true_statement',\n",
       "       'explanation_x_crt', 'rating_delta', 'z_rating_delta'],\n",
       "      dtype='object')"
      ]
     },
     "execution_count": 14,
     "metadata": {},
     "output_type": "execute_result"
    }
   ],
   "source": [
    "df.columns"
   ]
  },
  {
   "cell_type": "raw",
   "metadata": {},
   "source": []
  },
  {
   "cell_type": "code",
   "execution_count": 15,
   "metadata": {},
   "outputs": [
    {
     "data": {
      "text/plain": [
       "0.000000    7880\n",
       "0.333333    7140\n",
       "0.666667    4680\n",
       "1.000000    4280\n",
       "Name: CRT, dtype: int64"
      ]
     },
     "execution_count": 15,
     "metadata": {},
     "output_type": "execute_result"
    }
   ],
   "source": [
    "df.CRT.value_counts()"
   ]
  },
  {
   "cell_type": "code",
   "execution_count": 20,
   "metadata": {},
   "outputs": [
    {
     "data": {
      "text/html": [
       "<table style=\"text-align:center\"><tr><td colspan=\"9\" style=\"border-bottom: 1px solid black\"></td></tr><tr><td style=\"text-align:left\"></td><td colspan=\"8\"><em>Dependent variable:second_rating</em></td></tr><tr><td style=\"text-align:left\"></td><tr><td></td><td colspan=\"1\">N – True (Honest)</td><td colspan=\"1\">N – True (Deceptive)</td><td colspan=\"1\">N – False (Honest)</td><td colspan=\"1\">N – False (Deceptive)</td><td colspan=\"1\">T – True (Honest)</td><td colspan=\"1\">T – True (Deceptive)</td><td colspan=\"1\">T – False (Honest)</td><td colspan=\"1\">T – False (Deceptive)</td></tr><tr><td style=\"text-align:left\"></td><td>(1)</td><td>(2)</td><td>(3)</td><td>(4)</td><td>(5)</td><td>(6)</td><td>(7)</td><td>(8)</td></tr><tr><td colspan=\"9\" style=\"border-bottom: 1px solid black\"></td></tr><tr><td style=\"text-align:left\">Constant</td><td>1.75<sup>***</sup></td><td>2.57<sup>***</sup></td><td>3.68<sup>***</sup></td><td>2.59<sup>***</sup></td><td>2.37<sup>***</sup></td><td>3.51<sup>***</sup></td><td>3.73<sup>***</sup></td><td>2.45<sup>***</sup></td></tr><tr><td style=\"text-align:left\"></td><td>(0.06)</td><td>(0.09)</td><td>(0.06)</td><td>(0.07)</td><td>(0.06)</td><td>(0.07)</td><td>(0.07)</td><td>(0.08)</td></tr><tr><td style=\"text-align:left\">LLM Explanation</td><td>-0.04<sup></sup></td><td>0.14<sup></sup></td><td>0.04<sup></sup></td><td>-0.23<sup>*</sup></td><td>0.02<sup></sup></td><td>0.10<sup></sup></td><td>0.19<sup>*</sup></td><td>-0.22<sup>*</sup></td></tr><tr><td style=\"text-align:left\"></td><td>(0.08)</td><td>(0.12)</td><td>(0.08)</td><td>(0.10)</td><td>(0.09)</td><td>(0.10)</td><td>(0.10)</td><td>(0.11)</td></tr><tr><td style=\"text-align:left\">CRT</td><td>-0.17<sup></sup></td><td>-0.45<sup>**</sup></td><td>-0.14<sup></sup></td><td>0.05<sup></sup></td><td>-0.21<sup>*</sup></td><td>-0.07<sup></sup></td><td>0.16<sup></sup></td><td>-0.08<sup></sup></td></tr><tr><td style=\"text-align:left\"></td><td>(0.10)</td><td>(0.15)</td><td>(0.11)</td><td>(0.13)</td><td>(0.10)</td><td>(0.12)</td><td>(0.12)</td><td>(0.13)</td></tr><tr><td style=\"text-align:left\">Explanation * CRT</td><td>-0.06<sup></sup></td><td>0.30<sup></sup></td><td>0.29<sup>*</sup></td><td>-0.04<sup></sup></td><td>-0.09<sup></sup></td><td>-0.27<sup></sup></td><td>-0.25<sup></sup></td><td>0.10<sup></sup></td></tr><tr><td style=\"text-align:left\"></td><td>(0.13)</td><td>(0.23)</td><td>(0.14)</td><td>(0.18)</td><td>(0.15)</td><td>(0.17)</td><td>(0.17)</td><td>(0.20)</td></tr><td colspan=\"9\" style=\"border-bottom: 1px solid black\"></td></tr><tr><td style=\"text-align: left\">Observations</td><td>2,255</td><td>2,363</td><td>3,574</td><td>3,588</td><td>3,544</td><td>3,543</td><td>2,527</td><td>2,586</td></tr><tr><td style=\"text-align: left\">R<sup>2</sup></td><td>0.01</td><td>0.01</td><td>0.01</td><td>0.01</td><td>0.01</td><td>0.00</td><td>0.00</td><td>0.01</td></tr><tr><td style=\"text-align: left\">Adjusted R<sup>2</sup></td><td>0.01</td><td>0.01</td><td>0.01</td><td>0.01</td><td>0.01</td><td>0.00</td><td>0.00</td><td>0.00</td></tr><tr><td style=\"text-align: left\">Residual Std. Error</td><td>0.94</td><td>1.41</td><td>1.04</td><td>1.11</td><td>1.24</td><td>1.33</td><td>1.19</td><td>1.28</td></tr><tr><td style=\"text-align: left\">F Statistic</td><td>3.97<sup>**</sup></td><td>7.07<sup>***</sup></td><td>4.23<sup>**</sup></td><td>5.37<sup>**</sup></td><td>4.41<sup>**</sup></td><td>3.00<sup>*</sup></td><td>1.32<sup></sup></td><td>2.34<sup></sup></td></tr><tr><td colspan=\"9\" style=\"border-bottom: 1px solid black\"></td></tr><tr><td style=\"text-align: left\">Note:</td>\n",
       " <td colspan=\"8\" style=\"text-align: right\">\n",
       "  <sup>*</sup>p&lt;0.05;\n",
       "  <sup>**</sup>p&lt;0.01;\n",
       "  <sup>***</sup>p&lt;0.001\n",
       " </td></tr></table>"
      ],
      "text/plain": [
       "<IPython.core.display.HTML object>"
      ]
     },
     "execution_count": 20,
     "metadata": {},
     "output_type": "execute_result"
    }
   ],
   "source": [
    "x= []\n",
    "for stimuli in [0,1]:\n",
    "    for truth in [0,1]:\n",
    "        for deception in [0,1]:\n",
    "            #stats.ttest(X,Y)\n",
    "            i = df[(df.trivia==stimuli) & (df.true_statement==truth) & (df.deceptive_feedback==deception)]\n",
    "            res = sm.OLS(i[\"second_rating\"], \n",
    "                                  sm.add_constant(i[[\n",
    "                                     \n",
    "                                      'explanation',\n",
    "                                      \"CRT\",\n",
    "                                      \"explanation_x_crt\",\n",
    "                                  ]]), \n",
    "                                  M=sm.robust.norms.HuberT()).fit(cov_type='cluster', cov_kwds={'groups': i['PROLIFIC_PID']})\n",
    "            x.append(res)\n",
    "stargazer = Stargazer([x[0],x[1],x[2],x[3],\n",
    "                      x[4],x[5],x[6],x[7]])\n",
    "stargazer.covariate_order([\n",
    "                            'const',\n",
    "                            'explanation',\n",
    "                                      \"CRT\",\n",
    "                                      \"explanation_x_crt\",\n",
    "                \n",
    "                          ])\n",
    "stargazer.custom_columns(['N – True (Honest)','N – True (Deceptive)',\n",
    "                          'N – False (Honest)', 'N – False (Deceptive)',\n",
    "                         'T – True (Honest)','T – True (Deceptive)',\n",
    "                          'T – False (Honest)', 'T – False (Deceptive)'],\n",
    "                         [1,1,1,1,1,1,1,1,])\n",
    "stargazer.rename_covariates({\n",
    "                            'const':'Constant',\n",
    "                            'explanation':\"LLM Explanation\",\n",
    "                            'CRT': \"CRT\",\n",
    "                            \"explanation_x_crt\": \"Explanation * CRT\",\n",
    "                            })\n",
    "stargazer.significant_digits(2)\n",
    "stargazer.show_degrees_of_freedom(False)\n",
    "stargazer.significance_levels([0.05, 0.01, 0.001])\n",
    "stargazer.show_model_numbers(True)\n",
    "HTML(stargazer.render_html())\n"
   ]
  },
  {
   "cell_type": "code",
   "execution_count": 5,
   "metadata": {},
   "outputs": [
    {
     "data": {
      "image/png": "[encoded data removed]",
      "text/plain": [
       "<Figure size 432x288 with 1 Axes>"
      ]
     },
     "metadata": {
      "needs_background": "light"
     },
     "output_type": "display_data"
    },
    {
     "data": {
      "image/png": "[encoded data removed]",
      "text/plain": [
       "<Figure size 432x288 with 1 Axes>"
      ]
     },
     "metadata": {
      "needs_background": "light"
     },
     "output_type": "display_data"
    },
    {
     "data": {
      "image/png": "[encoded data removed]",
      "text/plain": [
       "<Figure size 432x288 with 1 Axes>"
      ]
     },
     "metadata": {
      "needs_background": "light"
     },
     "output_type": "display_data"
    },
    {
     "data": {
      "image/png": "[encoded data removed]",
      "text/plain": [
       "<Figure size 432x288 with 1 Axes>"
      ]
     },
     "metadata": {
      "needs_background": "light"
     },
     "output_type": "display_data"
    }
   ],
   "source": [
    "def plotter(data,name, hue):\n",
    "    fig = plt.figure()\n",
    "    ax = fig.add_subplot(1,1,1)\n",
    "    colors = [palette1,palette3]\n",
    "    custom = sns.set_palette(sns.color_palette(colors))\n",
    "    ax = sns.barplot(x=\"true_statement\", y=\"z_rating_delta\",hue=hue,                    \n",
    "                     hue_order=[\"No Explanation\",\"GPT Explanation\"],\n",
    "\n",
    "                     data=data, \n",
    "                     alpha=.99,\n",
    "                     errcolor=\"black\", errwidth=2, capsize=.05,\n",
    "#                      order=[ 'Atopic Dermatitis', 'CTCL', 'Dermatomyositis','Lichen Planus', 'Lyme',\n",
    "#                             'Pityriasis Rosea', \n",
    "#            'Pityriasis Rubra Pilaris',  \n",
    "#             'Secondary Syphilis',\"Additional\",],\n",
    "                     palette=custom)\n",
    "    ax.set_ylabel(\"Normalized Change in Belief\")\n",
    "    ax.set_xlabel(\"\")\n",
    "    ax.set_xticklabels(['False Items', 'True Items'])\n",
    "    ax.legend()\n",
    "#     ax.set_ylim(0,5)\n",
    "    ax.set_title(\"{}\".format(name))\n",
    "#     fig.set_size_inches(15, 5)\n",
    "    fig.savefig(\"f1_{}.png\".format(name),dpi=600, bbox_inches=\"tight\")\n",
    "\n",
    "\n",
    "\n",
    "plotter(df[(df.trivia==0) & (df.deceptive_feedback==0)],\"a. Honest Explanation (News)\",\"text_explanation\")\n",
    "plotter(df[(df.trivia==0) & (df.deceptive_feedback==1)],\"b. Deceptive Explanation (News)\",\"text_explanation\")\n",
    "plotter(df[(df.trivia==1) & (df.deceptive_feedback==0)],\"c. Honest Explanation (Trivia)\",\"text_explanation\")\n",
    "plotter(df[(df.trivia==1) & (df.deceptive_feedback==1)],\"d. Deceptive Explanation (Trivia)\",\"text_explanation\")"
   ]
  },
  {
   "cell_type": "code",
   "execution_count": 6,
   "metadata": {},
   "outputs": [
    {
     "name": "stdout",
     "output_type": "stream",
     "text": [
      "extra\n"
     ]
    }
   ],
   "source": [
    "print(\"extra\")"
   ]
  },
  {
   "cell_type": "code",
   "execution_count": null,
   "metadata": {},
   "outputs": [],
   "source": []
  },
  {
   "cell_type": "code",
   "execution_count": 7,
   "metadata": {},
   "outputs": [
    {
     "data": {
      "text/html": [
       "<table style=\"text-align:center\"><tr><td colspan=\"7\" style=\"border-bottom: 1px solid black\"></td></tr><tr><td style=\"text-align:left\"></td><tr><td></td><td colspan=\"1\">N – 1st Rating</td><td colspan=\"1\">N – 2nd Rating</td><td colspan=\"1\">N – Rating Delta</td><td colspan=\"1\">T – 1st Rating</td><td colspan=\"1\">T – 2nd Rating</td><td colspan=\"1\">T – Rating Delta</td></tr><tr><td style=\"text-align:left\"></td><td>(1)</td><td>(2)</td><td>(3)</td><td>(4)</td><td>(5)</td><td>(6)</td></tr><tr><td colspan=\"7\" style=\"border-bottom: 1px solid black\"></td></tr><tr><td style=\"text-align:left\">Constant</td><td>1.96<sup>***</sup></td><td>1.72<sup>***</sup></td><td>-0.25<sup>***</sup></td><td>2.91<sup>***</sup></td><td>2.34<sup>***</sup></td><td>-0.57<sup>***</sup></td></tr><tr><td style=\"text-align:left\"></td><td>(0.04)</td><td>(0.04)</td><td>(0.03)</td><td>(0.04)</td><td>(0.04)</td><td>(0.04)</td></tr><tr><td style=\"text-align:left\">True Statement</td><td>1.29<sup>***</sup></td><td>1.94<sup>***</sup></td><td>0.65<sup>***</sup></td><td>0.38<sup>***</sup></td><td>1.52<sup>***</sup></td><td>1.13<sup>***</sup></td></tr><tr><td style=\"text-align:left\"></td><td>(0.05)</td><td>(0.06)</td><td>(0.04)</td><td>(0.05)</td><td>(0.07)</td><td>(0.06)</td></tr><tr><td style=\"text-align:left\">GPT Explanation</td><td>-0.01<sup></sup></td><td>-0.07<sup></sup></td><td>-0.05<sup></sup></td><td>-0.10<sup>*</sup></td><td>-0.02<sup></sup></td><td>0.08<sup></sup></td></tr><tr><td style=\"text-align:left\"></td><td>(0.06)</td><td>(0.05)</td><td>(0.04)</td><td>(0.04)</td><td>(0.05)</td><td>(0.06)</td></tr><tr><td style=\"text-align:left\">GPT Explanation * False Statement</td><td>0.04<sup></sup></td><td>0.22<sup>**</sup></td><td>0.18<sup>**</sup></td><td>0.02<sup></sup></td><td>0.11<sup></sup></td><td>0.09<sup></sup></td></tr><tr><td style=\"text-align:left\"></td><td>(0.07)</td><td>(0.08)</td><td>(0.07)</td><td>(0.06)</td><td>(0.10)</td><td>(0.09)</td></tr><tr><td style=\"text-align:left\">Deceptive Feedback</td><td>-0.01<sup></sup></td><td>0.71<sup>***</sup></td><td>0.72<sup>***</sup></td><td>0.01<sup></sup></td><td>1.19<sup>***</sup></td><td>1.18<sup>***</sup></td></tr><tr><td style=\"text-align:left\"></td><td>(0.05)</td><td>(0.07)</td><td>(0.05)</td><td>(0.04)</td><td>(0.07)</td><td>(0.06)</td></tr><tr><td style=\"text-align:left\">Deceptive Feedback * False Statement</td><td>0.02<sup></sup></td><td>-1.72<sup>***</sup></td><td>-1.74<sup>***</sup></td><td>-0.12<sup></sup></td><td>-2.57<sup>***</sup></td><td>-2.45<sup>***</sup></td></tr><tr><td style=\"text-align:left\"></td><td>(0.06)</td><td>(0.12)</td><td>(0.10)</td><td>(0.07)</td><td>(0.14)</td><td>(0.13)</td></tr><tr><td style=\"text-align:left\">Deceptive GPT Explanation</td><td>0.09<sup></sup></td><td>0.32<sup>**</sup></td><td>0.23<sup>**</sup></td><td>0.05<sup></sup></td><td>0.01<sup></sup></td><td>-0.04<sup></sup></td></tr><tr><td style=\"text-align:left\"></td><td>(0.07)</td><td>(0.10)</td><td>(0.08)</td><td>(0.06)</td><td>(0.10)</td><td>(0.09)</td></tr><tr><td style=\"text-align:left\">Deceptive GPT Explanation * False Statement</td><td>-0.09<sup></sup></td><td>-0.72<sup>***</sup></td><td>-0.63<sup>***</sup></td><td>0.04<sup></sup></td><td>-0.29<sup></sup></td><td>-0.33<sup></sup></td></tr><tr><td style=\"text-align:left\"></td><td>(0.09)</td><td>(0.17)</td><td>(0.16)</td><td>(0.09)</td><td>(0.19)</td><td>(0.18)</td></tr><tr><td style=\"text-align:left\">CRT</td><td>-0.07<sup></sup></td><td>-0.09<sup>*</sup></td><td>-0.02<sup></sup></td><td>-0.12<sup>***</sup></td><td>-0.13<sup>***</sup></td><td>-0.01<sup></sup></td></tr><tr><td style=\"text-align:left\"></td><td>(0.04)</td><td>(0.04)</td><td>(0.03)</td><td>(0.03)</td><td>(0.03)</td><td>(0.03)</td></tr><tr><td style=\"text-align: left\">Number of Participants</td><td>589</td><td>589</td><td>589</td><td>610</td><td>610</td><td>610</td></tr><tr><td style=\"text-align: left\">Number of Stimuli</td><td>26</td><td>26</td><td>26</td><td>26</td><td>26</td><td>26</td></tr><td colspan=\"7\" style=\"border-bottom: 1px solid black\"></td></tr><tr><td style=\"text-align: left\">Observations</td><td>11,780</td><td>11,780</td><td>11,780</td><td>12,200</td><td>12,200</td><td>12,200</td></tr><tr><td style=\"text-align: left\">R<sup>2</sup></td><td>0.24</td><td>0.30</td><td>0.29</td><td>0.02</td><td>0.23</td><td>0.25</td></tr><tr><td style=\"text-align: left\">Adjusted R<sup>2</sup></td><td>0.24</td><td>0.30</td><td>0.29</td><td>0.02</td><td>0.22</td><td>0.25</td></tr><tr><td style=\"text-align: left\">Residual Std. Error</td><td>1.12</td><td>1.13</td><td>0.90</td><td>1.28</td><td>1.27</td><td>1.12</td></tr><tr><td style=\"text-align: left\">F Statistic</td><td>270.12<sup>***</sup></td><td>391.05<sup>***</sup></td><td>95.76<sup>***</sup></td><td>32.99<sup>***</sup></td><td>141.15<sup>***</sup></td><td>109.40<sup>***</sup></td></tr><tr><td colspan=\"7\" style=\"border-bottom: 1px solid black\"></td></tr><tr><td style=\"text-align: left\">Note:</td>\n",
       " <td colspan=\"6\" style=\"text-align: right\">\n",
       "  <sup>*</sup>p&lt;0.05;\n",
       "  <sup>**</sup>p&lt;0.01;\n",
       "  <sup>***</sup>p&lt;0.001\n",
       " </td></tr></table>"
      ],
      "text/plain": [
       "<IPython.core.display.HTML object>"
      ]
     },
     "execution_count": 7,
     "metadata": {},
     "output_type": "execute_result"
    }
   ],
   "source": [
    "x = []\n",
    "for stimuli in [0,1]:\n",
    "    for dv in [\"initial_rating\",\"second_rating\",\"rating_delta\"]:\n",
    "        i = df[df.trivia==stimuli]\n",
    "        res = sm.OLS(i[dv], \n",
    "                      sm.add_constant(i[[\n",
    "                          'true_statement',\n",
    "                          'explanation',\n",
    "                          \"explanation_x_true_statement\",\n",
    "                          'deceptive_feedback',\n",
    "                          'deceptive_feedback_x_true_statement',\n",
    "                          \"deceptive_feedback_x_explanation\",\n",
    "                          \"deceptive_feedback_x_ts_x_explanation\",\n",
    "                          \"CRT\",\n",
    "                      ]]), \n",
    "                      M=sm.robust.norms.HuberT()).fit(cov_type='cluster', cov_kwds={'groups': i['PROLIFIC_PID']})\n",
    "        x.append(res)\n",
    "\n",
    "stargazer = Stargazer([x[0],x[1],x[2],x[3],x[4],x[5]])\n",
    "stargazer.covariate_order([\n",
    "                            'const',\n",
    "                            'true_statement',\n",
    "                            'explanation',\n",
    "                            \"explanation_x_true_statement\",\n",
    "                            'deceptive_feedback',\n",
    "                            'deceptive_feedback_x_true_statement',\n",
    "                            \"deceptive_feedback_x_explanation\",\n",
    "                            \"deceptive_feedback_x_ts_x_explanation\",\n",
    "                            \"CRT\",\n",
    "                          ])\n",
    "stargazer.custom_columns(['N – 1st Rating', 'N – 2nd Rating',\"N – Rating Delta\",\n",
    "                         'T – 1st Rating', 'T – 2nd Rating',\"T – Rating Delta\"],\n",
    "                         [1,1,1,1,1,1])\n",
    "stargazer.rename_covariates({\n",
    "                            'const':'Constant',\n",
    "                            'true_statement': \"True Statement\",\n",
    "                            'explanation':\"GPT Explanation\",\n",
    "                            \"explanation_x_true_statement\": \"GPT Explanation * False Statement\",\n",
    "                            'deceptive_feedback': \"Deceptive Feedback\",\n",
    "                            'deceptive_feedback_x_true_statement': \"Deceptive Feedback * False Statement\",\n",
    "                            \"deceptive_feedback_x_explanation\": \"Deceptive GPT Explanation\",\n",
    "                            \"deceptive_feedback_x_ts_x_explanation\": \"Deceptive GPT Explanation * False Statement\",\n",
    "                            })\n",
    "stargazer.significant_digits(2)\n",
    "stargazer.show_degrees_of_freedom(False)\n",
    "stargazer.significance_levels([0.05, 0.01, 0.001])\n",
    "stargazer.show_model_numbers(True)\n",
    "stargazer.add_line('Number of Participants', [\n",
    "    df[df.trivia==0].PROLIFIC_PID.nunique(),\n",
    "    df[df.trivia==0].PROLIFIC_PID.nunique(),\n",
    "    df[df.trivia==0].PROLIFIC_PID.nunique(),\n",
    "    df[df.trivia==1].PROLIFIC_PID.nunique(),\n",
    "    df[df.trivia==1].PROLIFIC_PID.nunique(),\n",
    "    df[df.trivia==1].PROLIFIC_PID.nunique(),\n",
    "    ])\n",
    "stargazer.add_line('Number of Stimuli', [\n",
    "    df[df.trivia==0].topic.nunique(),\n",
    "    df[df.trivia==0].topic.nunique(),\n",
    "    df[df.trivia==0].topic.nunique(),\n",
    "    df[df.trivia==1].topic.nunique(),\n",
    "    df[df.trivia==1].topic.nunique(),\n",
    "    df[df.trivia==1].topic.nunique(),\n",
    "    ])\n",
    "HTML(stargazer.render_html())\n"
   ]
  },
  {
   "cell_type": "code",
   "execution_count": null,
   "metadata": {},
   "outputs": [],
   "source": [
    "df.columns"
   ]
  },
  {
   "cell_type": "code",
   "execution_count": null,
   "metadata": {},
   "outputs": [],
   "source": [
    "# double checking that the dta looks balanced, all good\n",
    "bb = df.groupby([\"trivia\",\"true_statement\",\"explanation\",\"deceptive_feedback\",\"stimulus_ID\"]).initial_rating.mean().reset_index()\n",
    "aa = df.groupby([\"trivia\",\"true_statement\",\"explanation\",\"deceptive_feedback\",\"stimulus_ID\"]).second_rating.mean().reset_index()\n",
    "aa"
   ]
  },
  {
   "cell_type": "code",
   "execution_count": null,
   "metadata": {},
   "outputs": [],
   "source": [
    "# Visual showing feedback (1) influences updating (2) people believe fake news/trivia less when given honest explanation and people believe fake news/trivia more when given deceptive explanation\n",
    "\n",
    "plt.plot([1,2,3,4,5],[1,2,3,4,5])\n",
    "plt.scatter(bb[(bb.true_statement==1) & (bb.explanation==1) & (bb.deceptive_feedback==0)][\"initial_rating\"],\n",
    "            bb[(bb.true_statement==1) & (bb.explanation==1) & (bb.deceptive_feedback==1)][\"initial_rating\"])\n",
    "plt.xlabel(\"Belief in True Statement with Honest Feedback\")\n",
    "plt.ylabel(\"Belief in True Statement with Deceptive Feedback\")\n",
    "plt.title(\"Before Feedback\")\n",
    "plt.show()\n",
    "plt.plot([1,2,3,4,5],[1,2,3,4,5])\n",
    "plt.scatter(aa[(aa.true_statement==1) & (aa.explanation==1) & (aa.deceptive_feedback==0)][\"second_rating\"],\n",
    "            aa[(aa.true_statement==1) & (aa.explanation==1) & (aa.deceptive_feedback==1)][\"second_rating\"])\n",
    "plt.xlabel(\"Belief in True Statement with Honest Feedback\")\n",
    "plt.ylabel(\"Belief in True Statement with Deceptive Feedback\")\n",
    "plt.title(\"After Feedback\")\n",
    "plt.show()"
   ]
  },
  {
   "cell_type": "code",
   "execution_count": null,
   "metadata": {},
   "outputs": [],
   "source": []
  },
  {
   "cell_type": "code",
   "execution_count": null,
   "metadata": {},
   "outputs": [],
   "source": []
  }
 ],
 "metadata": {
  "kernelspec": {
   "display_name": "Python 3",
   "language": "python",
   "name": "python3"
  },
  "language_info": {
   "codemirror_mode": {
    "name": "ipython",
    "version": 3
   },
   "file_extension": ".py",
   "mimetype": "text/x-python",
   "name": "python",
   "nbconvert_exporter": "python",
   "pygments_lexer": "ipython3",
   "version": "3.8.3"
  }
 },
 "nbformat": 4,
 "nbformat_minor": 4
}
